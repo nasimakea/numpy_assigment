{
  "nbformat": 4,
  "nbformat_minor": 0,
  "metadata": {
    "colab": {
      "provenance": []
    },
    "kernelspec": {
      "name": "python3",
      "display_name": "Python 3"
    },
    "language_info": {
      "name": "python"
    }
  },
  "cells": [
    {
      "cell_type": "code",
      "execution_count": null,
      "metadata": {
        "id": "a072IOAjrnaP"
      },
      "outputs": [],
      "source": []
    },
    {
      "cell_type": "markdown",
      "source": [
        "#Consider the below code to answer further questions:\n",
        "#import numpy as np\n",
        "#list_ = [ ‘1’ , ’2’ , ‘3’ , ‘4’ , ‘5’ ]\n",
        "#array_list = np.array(object = list_)\n",
        "#Q1. Is there any difference in the data type of variables list_ and array_list? If there is then write a code\n",
        "#to print the data types of both the variables."
      ],
      "metadata": {
        "id": "sti6bTy-rz0j"
      }
    },
    {
      "cell_type": "code",
      "source": [],
      "metadata": {
        "id": "4E2stlGcsJid"
      },
      "execution_count": null,
      "outputs": []
    },
    {
      "cell_type": "markdown",
      "source": [
        "#ANS:-"
      ],
      "metadata": {
        "id": "OwZrmrHEsLyg"
      }
    },
    {
      "cell_type": "code",
      "source": [
        "import numpy as np"
      ],
      "metadata": {
        "id": "ES5tuWQcsN2P"
      },
      "execution_count": 1,
      "outputs": []
    },
    {
      "cell_type": "code",
      "source": [
        "list_=['1','2','3','4','5']"
      ],
      "metadata": {
        "id": "AhVOplQOsSTZ"
      },
      "execution_count": 2,
      "outputs": []
    },
    {
      "cell_type": "code",
      "source": [
        "array_list=np.array(list_)"
      ],
      "metadata": {
        "id": "V5HSYi5Esb8v"
      },
      "execution_count": 3,
      "outputs": []
    },
    {
      "cell_type": "markdown",
      "source": [
        "# There is difernce between the data types of both list and array_list"
      ],
      "metadata": {
        "id": "hLkwhy8dt57i"
      }
    },
    {
      "cell_type": "code",
      "source": [
        "print(f\"the data type of list is {type(list_)}\")\n",
        "print()\n",
        "print(f\"the data type of array_list is {array_list.dtype}\")"
      ],
      "metadata": {
        "colab": {
          "base_uri": "https://localhost:8080/"
        },
        "id": "0Nd7e01KsikM",
        "outputId": "69657c58-5864-491a-8abb-fe063249f28f"
      },
      "execution_count": 8,
      "outputs": [
        {
          "output_type": "stream",
          "name": "stdout",
          "text": [
            "the data type of list is <class 'list'>\n",
            "\n",
            "the data type of array_list is <U1\n"
          ]
        }
      ]
    },
    {
      "cell_type": "code",
      "source": [
        "for i in list_ :\n",
        "  print(type(i))\n"
      ],
      "metadata": {
        "colab": {
          "base_uri": "https://localhost:8080/"
        },
        "id": "gCcGFHPjs_hp",
        "outputId": "bf95713d-23c8-4cf3-aeec-b9ecbd961c96"
      },
      "execution_count": 9,
      "outputs": [
        {
          "output_type": "stream",
          "name": "stdout",
          "text": [
            "<class 'str'>\n",
            "<class 'str'>\n",
            "<class 'str'>\n",
            "<class 'str'>\n",
            "<class 'str'>\n"
          ]
        }
      ]
    },
    {
      "cell_type": "code",
      "source": [],
      "metadata": {
        "id": "uBW_uoV1tyTY"
      },
      "execution_count": null,
      "outputs": []
    },
    {
      "cell_type": "markdown",
      "source": [
        "# Q2. Write a code to print the data type of each and every element of both the variables list_ and array_list."
      ],
      "metadata": {
        "id": "XOwxBEeruF5l"
      }
    },
    {
      "cell_type": "code",
      "source": [],
      "metadata": {
        "id": "7277TiV6uRma"
      },
      "execution_count": null,
      "outputs": []
    },
    {
      "cell_type": "markdown",
      "source": [
        "#ANS:-"
      ],
      "metadata": {
        "id": "1jZ9auF4uU_2"
      }
    },
    {
      "cell_type": "code",
      "source": [
        "l1=[]\n",
        "for i in list_:\n",
        "  print(type(i))\n",
        "  l1.append(type(i))\n",
        "\n",
        "print()\n",
        "print(l1)\n"
      ],
      "metadata": {
        "colab": {
          "base_uri": "https://localhost:8080/"
        },
        "id": "GbZEQMGZuWaX",
        "outputId": "d7e2d975-adf9-47cc-aa80-393af461b2cd"
      },
      "execution_count": 10,
      "outputs": [
        {
          "output_type": "stream",
          "name": "stdout",
          "text": [
            "<class 'str'>\n",
            "<class 'str'>\n",
            "<class 'str'>\n",
            "<class 'str'>\n",
            "<class 'str'>\n",
            "\n",
            "[<class 'str'>, <class 'str'>, <class 'str'>, <class 'str'>, <class 'str'>]\n"
          ]
        }
      ]
    },
    {
      "cell_type": "code",
      "source": [
        "print(f\"my array_list is {array_list}\")"
      ],
      "metadata": {
        "colab": {
          "base_uri": "https://localhost:8080/"
        },
        "id": "6aS3lHJauvCl",
        "outputId": "34497991-b796-44fe-866b-d28d3635078e"
      },
      "execution_count": 11,
      "outputs": [
        {
          "output_type": "stream",
          "name": "stdout",
          "text": [
            "my array_list is ['1' '2' '3' '4' '5']\n"
          ]
        }
      ]
    },
    {
      "cell_type": "code",
      "source": [
        "l3=[]\n",
        "for i in array_list:\n",
        "  print(type(i))\n",
        "  l3.append(type(i))\n",
        "\n",
        "x=np.array(l3)\n",
        "print()\n",
        "\n",
        "print()\n",
        "print(f\"the array of types of data inside array_list is {x}\")"
      ],
      "metadata": {
        "colab": {
          "base_uri": "https://localhost:8080/"
        },
        "id": "Ne_6LJvqu4Oe",
        "outputId": "94f7fa76-8f68-4195-e440-35a62b2ed444"
      },
      "execution_count": 16,
      "outputs": [
        {
          "output_type": "stream",
          "name": "stdout",
          "text": [
            "<class 'numpy.str_'>\n",
            "<class 'numpy.str_'>\n",
            "<class 'numpy.str_'>\n",
            "<class 'numpy.str_'>\n",
            "<class 'numpy.str_'>\n",
            "\n",
            "\n",
            "the array of types of data inside array_list is [<class 'numpy.str_'> <class 'numpy.str_'> <class 'numpy.str_'>\n",
            " <class 'numpy.str_'> <class 'numpy.str_'>]\n",
            "<class 'numpy.str_'>\n",
            "<class 'numpy.str_'>\n",
            "<class 'numpy.str_'>\n",
            "<class 'numpy.str_'>\n",
            "<class 'numpy.str_'>\n",
            "\n",
            "\n",
            "the array of types of data inside array_list is [<class 'numpy.str_'> <class 'numpy.str_'> <class 'numpy.str_'>\n",
            " <class 'numpy.str_'> <class 'numpy.str_'>]\n"
          ]
        }
      ]
    },
    {
      "cell_type": "code",
      "source": [],
      "metadata": {
        "id": "0fRj677Ivdaz"
      },
      "execution_count": null,
      "outputs": []
    },
    {
      "cell_type": "markdown",
      "source": [
        "# Q3. Considering the following changes in the variable, array_list:\n",
        "#array_list = np.array(object = list_, dtype = int)\n",
        "#Will there be any difference in the data type of the elements present in both the variables, list_ and\n",
        "#arra_list? If so then print the data types of each and every element present in  both the variables, list_\n",
        "#and arra_list."
      ],
      "metadata": {
        "id": "H-sc3Py_v-JK"
      }
    },
    {
      "cell_type": "code",
      "source": [],
      "metadata": {
        "id": "SHeY8AkKwGcb"
      },
      "execution_count": null,
      "outputs": []
    },
    {
      "cell_type": "markdown",
      "source": [
        "# ANS:-"
      ],
      "metadata": {
        "id": "TJnPARUXwWDw"
      }
    },
    {
      "cell_type": "code",
      "source": [
        "array_list=np.array(list_,dtype=int)"
      ],
      "metadata": {
        "id": "GQL5j9rZwXVF"
      },
      "execution_count": 23,
      "outputs": []
    },
    {
      "cell_type": "code",
      "source": [
        "print(f\"now my array has become this {array_list}\")"
      ],
      "metadata": {
        "id": "r00Ek3Puwn5X",
        "outputId": "f7012d7e-796f-43e2-98bb-5fb14a97a7ab",
        "colab": {
          "base_uri": "https://localhost:8080/"
        }
      },
      "execution_count": 18,
      "outputs": [
        {
          "output_type": "stream",
          "name": "stdout",
          "text": [
            "now my array has become this [1 2 3 4 5]\n"
          ]
        }
      ]
    },
    {
      "cell_type": "code",
      "source": [
        "print(f\"But my list_ is still the same like before {list_}\")"
      ],
      "metadata": {
        "id": "ugzXVEzfwuZM",
        "outputId": "20f162eb-ca5d-4e4c-c024-de9aaa555585",
        "colab": {
          "base_uri": "https://localhost:8080/"
        }
      },
      "execution_count": 19,
      "outputs": [
        {
          "output_type": "stream",
          "name": "stdout",
          "text": [
            "But my list_ is still the same like before ['1', '2', '3', '4', '5']\n"
          ]
        }
      ]
    },
    {
      "cell_type": "code",
      "source": [],
      "metadata": {
        "id": "YNnWSu8-w4Sa"
      },
      "execution_count": null,
      "outputs": []
    },
    {
      "cell_type": "markdown",
      "source": [
        "let's check type of data inside the list_ and array_list"
      ],
      "metadata": {
        "id": "MHIKq5bQw56S"
      }
    },
    {
      "cell_type": "code",
      "source": [
        "store_data_type_of_list=[]\n",
        "for i in list_:\n",
        "  print(type(i))\n",
        "  store_data_type_of_list.append(type(i))\n",
        "\n",
        "print()\n",
        "print()\n",
        "print(f\"the type of data inside list_ is given by this list {store_data_type_of_list}\")"
      ],
      "metadata": {
        "id": "K30ecHyzxA8y",
        "outputId": "983e02f0-758a-4562-9c1d-84ac3ff399cd",
        "colab": {
          "base_uri": "https://localhost:8080/"
        }
      },
      "execution_count": 20,
      "outputs": [
        {
          "output_type": "stream",
          "name": "stdout",
          "text": [
            "<class 'str'>\n",
            "<class 'str'>\n",
            "<class 'str'>\n",
            "<class 'str'>\n",
            "<class 'str'>\n",
            "\n",
            "\n",
            "the type of data inside list_ is given by this list [<class 'str'>, <class 'str'>, <class 'str'>, <class 'str'>, <class 'str'>]\n"
          ]
        }
      ]
    },
    {
      "cell_type": "code",
      "source": [
        "store_data_type_of_array_list=[]\n",
        "for i in array_list:\n",
        "  print(type(i))\n",
        "  store_data_type_of_array_list.append(type(i))\n",
        "\n",
        "print()\n",
        "print()\n",
        "print(f\"the type of data inside store_data_type_of_arraylist is given by this array {np.array(store_data_type_of_array_list)}\")"
      ],
      "metadata": {
        "id": "JtKeUvsfxgek",
        "outputId": "12a0bbde-3165-43da-cc0a-4f62627f3ae7",
        "colab": {
          "base_uri": "https://localhost:8080/"
        }
      },
      "execution_count": 24,
      "outputs": [
        {
          "output_type": "stream",
          "name": "stdout",
          "text": [
            "<class 'numpy.int64'>\n",
            "<class 'numpy.int64'>\n",
            "<class 'numpy.int64'>\n",
            "<class 'numpy.int64'>\n",
            "<class 'numpy.int64'>\n",
            "\n",
            "\n",
            "the type of data inside store_data_type_of_arraylist is given by this array [<class 'numpy.int64'> <class 'numpy.int64'> <class 'numpy.int64'>\n",
            " <class 'numpy.int64'> <class 'numpy.int64'>]\n"
          ]
        }
      ]
    },
    {
      "cell_type": "code",
      "source": [],
      "metadata": {
        "id": "NKmNc-0Txv9a"
      },
      "execution_count": null,
      "outputs": []
    },
    {
      "cell_type": "markdown",
      "source": [
        "#Consider the below code to answer further questions:\n",
        "#import numpy as np\n",
        "#num_list = [ [ 1 , 2 , 3 ] , [ 4 , 5 , 6 ] ]\n",
        "#num_array = np.array(object = num_list)\n",
        "#Q4. Write a code to find the following characteristics of variable, num_array:\n",
        "#(i) shape\n",
        "#(ii) size"
      ],
      "metadata": {
        "id": "KS0iiC-gyjXz"
      }
    },
    {
      "cell_type": "code",
      "source": [],
      "metadata": {
        "id": "BxTpJLLGyr_o"
      },
      "execution_count": null,
      "outputs": []
    },
    {
      "cell_type": "markdown",
      "source": [
        "# ANS:-"
      ],
      "metadata": {
        "id": "mr-Wze8PyxKy"
      }
    },
    {
      "cell_type": "code",
      "source": [
        "num_list = [ [ 1 , 2 , 3 ] , [ 4 , 5 , 6 ] ]"
      ],
      "metadata": {
        "id": "lKupHEiEyyeE"
      },
      "execution_count": 25,
      "outputs": []
    },
    {
      "cell_type": "code",
      "source": [
        "num_array = np.array(object = num_list)"
      ],
      "metadata": {
        "id": "YKRBXuwFy9MO"
      },
      "execution_count": 26,
      "outputs": []
    },
    {
      "cell_type": "code",
      "source": [
        "print(f\"The shape of num_array is {num_array.shape}\")"
      ],
      "metadata": {
        "id": "Koe-mqvAzAM5",
        "outputId": "1c902b0f-30c2-4364-9f10-a632da627341",
        "colab": {
          "base_uri": "https://localhost:8080/"
        }
      },
      "execution_count": 28,
      "outputs": [
        {
          "output_type": "stream",
          "name": "stdout",
          "text": [
            "The shape of num_array is (2, 3)\n"
          ]
        }
      ]
    },
    {
      "cell_type": "code",
      "source": [
        "print(f\"The size of num_array is {num_array.size}\")"
      ],
      "metadata": {
        "id": "ckUsBrtWzOPA",
        "outputId": "5eeb3b13-0e2c-4cfa-87f0-c56de6d5dbfb",
        "colab": {
          "base_uri": "https://localhost:8080/"
        }
      },
      "execution_count": 29,
      "outputs": [
        {
          "output_type": "stream",
          "name": "stdout",
          "text": [
            "The size of num_array is 6\n"
          ]
        }
      ]
    },
    {
      "cell_type": "code",
      "source": [],
      "metadata": {
        "id": "p7FMReTdzVBC"
      },
      "execution_count": null,
      "outputs": []
    },
    {
      "cell_type": "markdown",
      "source": [
        "# Q5. Write a code to create numpy array of 3*3 matrix containing zeros only, using a numpy array\n",
        "#creation function.\n",
        "#[Hint: The size of the array will be 9 and the shape will be (3,3).]"
      ],
      "metadata": {
        "id": "V4YX3YRlzc-A"
      }
    },
    {
      "cell_type": "code",
      "source": [],
      "metadata": {
        "id": "XiCdESKMzgDZ"
      },
      "execution_count": null,
      "outputs": []
    },
    {
      "cell_type": "markdown",
      "source": [
        "# ANS:-"
      ],
      "metadata": {
        "id": "Q1FOhbxuzv4D"
      }
    },
    {
      "cell_type": "code",
      "source": [
        "import numpy as np\n",
        "\n",
        "\n",
        "zero_matrix = np.zeros((3, 3))\n",
        "\n",
        "print(f\"3x3 Matrix of Zeros:{zero_matrix}\")\n"
      ],
      "metadata": {
        "id": "gMMZZl9kzxni",
        "outputId": "667dcd2d-6cc1-4634-b981-27c846b9047d",
        "colab": {
          "base_uri": "https://localhost:8080/"
        }
      },
      "execution_count": 30,
      "outputs": [
        {
          "output_type": "stream",
          "name": "stdout",
          "text": [
            "3x3 Matrix of Zeros:[[0. 0. 0.]\n",
            " [0. 0. 0.]\n",
            " [0. 0. 0.]]\n"
          ]
        }
      ]
    },
    {
      "cell_type": "code",
      "source": [],
      "metadata": {
        "id": "r2PT2qdNz9G5"
      },
      "execution_count": null,
      "outputs": []
    },
    {
      "cell_type": "markdown",
      "source": [
        "# Q6. Create an identity matrix of shape (5,5) using numpy functions?\n",
        "[Hint: An identity matrix is a matrix containing 1 diagonally and other elements will be 0.]"
      ],
      "metadata": {
        "id": "UveWWelr0Cab"
      }
    },
    {
      "cell_type": "code",
      "source": [
        "identity_matrix = np.identity(5)\n",
        "\n",
        "print(f\"5x5 Identity Matrix:{identity_matrix}\")"
      ],
      "metadata": {
        "id": "QGNJ9Bt30Fee",
        "outputId": "b83e8d79-c02c-47a8-ac13-3d6cd3e0c922",
        "colab": {
          "base_uri": "https://localhost:8080/"
        }
      },
      "execution_count": 31,
      "outputs": [
        {
          "output_type": "stream",
          "name": "stdout",
          "text": [
            "5x5 Identity Matrix:[[1. 0. 0. 0. 0.]\n",
            " [0. 1. 0. 0. 0.]\n",
            " [0. 0. 1. 0. 0.]\n",
            " [0. 0. 0. 1. 0.]\n",
            " [0. 0. 0. 0. 1.]]\n"
          ]
        }
      ]
    },
    {
      "cell_type": "code",
      "source": [],
      "metadata": {
        "id": "6mgZJGSb0RoE"
      },
      "execution_count": null,
      "outputs": []
    }
  ]
}